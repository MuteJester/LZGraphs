{
 "cells": [
  {
   "cell_type": "code",
   "execution_count": 3,
   "id": "1e0eb2a4",
   "metadata": {},
   "outputs": [],
   "source": [
    "from LZGraphs import NaiveLZGraph,generate_kmer_dictionary\n",
    "\n",
    "import pandas as pd\n",
    "import matplotlib.pyplot as plt\n",
    "import matplotlib as mpl\n",
    "import seaborn as sns\n",
    "from tqdm.notebook import tqdm\n",
    "mpl.rcParams['figure.figsize'] = (15,7)\n",
    "import numpy as np"
   ]
  },
  {
   "cell_type": "markdown",
   "id": "3b86e90d",
   "metadata": {},
   "source": [
    "# The Data Used\n",
    "\n",
    "The NaiveLZGraph works on nucleotide sequences and is best suited for feature extraction / comparison as it has a constant number of nodes selected by the user and the only learnable factor in this model is the edge weights and the connections between the different nodes\n",
    "\n",
    "first we will load the sequence we will use from out example datasets:"
   ]
  },
  {
   "cell_type": "code",
   "execution_count": 4,
   "id": "a0e3c1d0",
   "metadata": {},
   "outputs": [
    {
     "data": {
      "text/html": [
       "<div>\n",
       "<style scoped>\n",
       "    .dataframe tbody tr th:only-of-type {\n",
       "        vertical-align: middle;\n",
       "    }\n",
       "\n",
       "    .dataframe tbody tr th {\n",
       "        vertical-align: top;\n",
       "    }\n",
       "\n",
       "    .dataframe thead th {\n",
       "        text-align: right;\n",
       "    }\n",
       "</style>\n",
       "<table border=\"1\" class=\"dataframe\">\n",
       "  <thead>\n",
       "    <tr style=\"text-align: right;\">\n",
       "      <th></th>\n",
       "      <th>cdr3_rearrangement</th>\n",
       "    </tr>\n",
       "  </thead>\n",
       "  <tbody>\n",
       "    <tr>\n",
       "      <th>9482</th>\n",
       "      <td>TGCGCCAGCAGCCAAGACCTGCGATTGATGTCCCGTAGTCCCTATG...</td>\n",
       "    </tr>\n",
       "    <tr>\n",
       "      <th>14823</th>\n",
       "      <td>TGTGCCAGCACTCCCCCACAGGGCTATGAAGCTTTCTTT</td>\n",
       "    </tr>\n",
       "    <tr>\n",
       "      <th>8994</th>\n",
       "      <td>TGTGCCAGCAGTACTGGGACTAGCGGGGTGAATGAGCAGTTCTTC</td>\n",
       "    </tr>\n",
       "    <tr>\n",
       "      <th>12490</th>\n",
       "      <td>TGTGCCAGCAGCGTAGGAGCGACGACAGGGGGCGCGGGGAATGAGC...</td>\n",
       "    </tr>\n",
       "    <tr>\n",
       "      <th>22854</th>\n",
       "      <td>TGCAGCGCACGAAGTGAGGAGAACACTGAAGCTTTCTTT</td>\n",
       "    </tr>\n",
       "    <tr>\n",
       "      <th>...</th>\n",
       "      <td>...</td>\n",
       "    </tr>\n",
       "    <tr>\n",
       "      <th>23751</th>\n",
       "      <td>TGTGCCTGGAGTGTTCTATTGGAGACCCAGTACTTC</td>\n",
       "    </tr>\n",
       "    <tr>\n",
       "      <th>14861</th>\n",
       "      <td>TGTGCCAGCAGTTACGACGCGAACACTGAAGCTTTCTTT</td>\n",
       "    </tr>\n",
       "    <tr>\n",
       "      <th>20944</th>\n",
       "      <td>TGCGCCAGCAGCGGTGCTGGGGGGTCCCAAGAGACCCAGTACTTC</td>\n",
       "    </tr>\n",
       "    <tr>\n",
       "      <th>7836</th>\n",
       "      <td>TGTGCCAGCAGCGCACGGACTAGCGGGGAGACAGATACGCAGTATTTT</td>\n",
       "    </tr>\n",
       "    <tr>\n",
       "      <th>20373</th>\n",
       "      <td>TGTGCCAGCAGCTTAGGACTACGGAATCAGCCCCAGCATTTT</td>\n",
       "    </tr>\n",
       "  </tbody>\n",
       "</table>\n",
       "<p>5000 rows × 1 columns</p>\n",
       "</div>"
      ],
      "text/plain": [
       "                                      cdr3_rearrangement\n",
       "9482   TGCGCCAGCAGCCAAGACCTGCGATTGATGTCCCGTAGTCCCTATG...\n",
       "14823            TGTGCCAGCACTCCCCCACAGGGCTATGAAGCTTTCTTT\n",
       "8994       TGTGCCAGCAGTACTGGGACTAGCGGGGTGAATGAGCAGTTCTTC\n",
       "12490  TGTGCCAGCAGCGTAGGAGCGACGACAGGGGGCGCGGGGAATGAGC...\n",
       "22854            TGCAGCGCACGAAGTGAGGAGAACACTGAAGCTTTCTTT\n",
       "...                                                  ...\n",
       "23751               TGTGCCTGGAGTGTTCTATTGGAGACCCAGTACTTC\n",
       "14861            TGTGCCAGCAGTTACGACGCGAACACTGAAGCTTTCTTT\n",
       "20944      TGCGCCAGCAGCGGTGCTGGGGGGTCCCAAGAGACCCAGTACTTC\n",
       "7836    TGTGCCAGCAGCGCACGGACTAGCGGGGAGACAGATACGCAGTATTTT\n",
       "20373         TGTGCCAGCAGCTTAGGACTACGGAATCAGCCCCAGCATTTT\n",
       "\n",
       "[5000 rows x 1 columns]"
      ]
     },
     "execution_count": 4,
     "metadata": {},
     "output_type": "execute_result"
    }
   ],
   "source": [
    "example_sequences = pd.read_csv('ExampleData1.csv',\n",
    "                               index_col=0)\n",
    "example_sequences"
   ]
  },
  {
   "cell_type": "markdown",
   "id": "72d924ae",
   "metadata": {},
   "source": [
    "# Generating Node Dictionary\n",
    "\n",
    "The next step in create a NaiveLZGraph is creating a list of nodes it will try to form connections between and aggregate the transition proibabilites between them.\n",
    "\n",
    "Naturally if we were to use only 4 nodes (A,T,C,G) we wolud get a simple first-order markov-chain.\n",
    "\n",
    "In the context of the NaiveLZGraph we want all LZ sub-patterns that can appear, from the our research in T-Cell CDR3 sequences, the maximum observed length of an LZ sub-patterns is 6, thus we reccomend using 6 as the parameter for the dictionary generating function.\n",
    "\n",
    "below is an example of the dictionary generation function and the output it returns"
   ]
  },
  {
   "cell_type": "code",
   "execution_count": 5,
   "id": "0d51b838",
   "metadata": {},
   "outputs": [],
   "source": "lz_dictionary = generate_kmer_dictionary(6)"
  },
  {
   "cell_type": "code",
   "execution_count": 6,
   "id": "b312cbe3",
   "metadata": {},
   "outputs": [
    {
     "data": {
      "text/plain": [
       "['GC', 'CA', 'CT', 'CG', 'CC', 'AAA', 'AAT', 'AAG', 'AAC', 'ATA']"
      ]
     },
     "execution_count": 6,
     "metadata": {},
     "output_type": "execute_result"
    }
   ],
   "source": [
    "lz_dictionary[15:25]"
   ]
  },
  {
   "cell_type": "markdown",
   "id": "e2d204c3",
   "metadata": {},
   "source": [
    "# Creating The NaiveLZGraph\n",
    "\n",
    "In order to create an instance of a NaiveLZGraph all we need is to provide the class constructor with the list of sequence we want our graph to learn and the node dictionary we already generated using `generate_dictionary`.\n",
    "\n",
    "Below is an example of the graph creation:"
   ]
  },
  {
   "cell_type": "code",
   "execution_count": 7,
   "id": "db805dc0",
   "metadata": {},
   "outputs": [
    {
     "name": "stdout",
     "output_type": "stream",
     "text": [
      "Graph Constructed.. |  0.23  Seconds\n",
      "Graph Metadata Derived.. |  0.23  Seconds\n",
      "Individual Subpattern Empirical Probability Derived.. |  0.24  Seconds\n",
      "Graph Edge Weight Normalized.. |  0.25  Seconds\n",
      "Terminal State Map Derived.. |  0.25  Seconds\n",
      "Individual Subpattern Empirical Probability Derived.. |  0.28  Seconds\n",
      "LZGraph Created Successfully.. |  0.28  Seconds\n",
      "==============================\n",
      "\n",
      "\n"
     ]
    }
   ],
   "source": [
    "my_naive_lzgraph = NaiveLZGraph(example_sequences['cdr3_rearrangement'],lz_dictionary)"
   ]
  },
  {
   "cell_type": "markdown",
   "id": "9675e3fd",
   "metadata": {},
   "source": [
    "We can see from the verbose generated the amount of time it took to create the graph and the different steps taken along the way.\n",
    "\n",
    "A good sanity check that the graph creation was indeed correct and that we accidentally didnt pass the name of the column by mistake or any other non sequence strings is to check the list of edges in the graph, see example below:"
   ]
  },
  {
   "cell_type": "code",
   "execution_count": 24,
   "id": "5a6995e0",
   "metadata": {},
   "outputs": [
    {
     "data": {
      "text/plain": [
       "5137"
      ]
     },
     "execution_count": 24,
     "metadata": {},
     "output_type": "execute_result"
    }
   ],
   "source": "len(my_naive_lzgraph.edges)"
  },
  {
   "cell_type": "markdown",
   "id": "885881be",
   "metadata": {},
   "source": [
    "We can see above that over the 5000 sequences we had in our example file we have discovered 5137 unique edges which means no issues on your side.\n",
    "One should double check if he get less than 30 edges for any number of sequences larger than 30."
   ]
  },
  {
   "cell_type": "markdown",
   "id": "88218602",
   "metadata": {},
   "source": [
    "# Using The NaiveLZGraph"
   ]
  },
  {
   "cell_type": "markdown",
   "id": "898b2561",
   "metadata": {},
   "source": [
    "### 1. Deriving a Featrure Vector\n",
    "\n",
    "One of the best usecases of the NaiveLZGraph as already mentioned, is the generation of a feature vector that can be used to model / compare any number of repertoires.\n",
    "\n",
    "Naturally, based on the fact we use the same nodes in every graph we will get unique feature vectors for every repertoire we model using the approach above, the NaiveLZGraph guarantees us that all of the feature vectors will be of the same dimension, a key fact that other graph types can not guarantee."
   ]
  },
  {
   "cell_type": "code",
   "execution_count": 9,
   "id": "d108afdf",
   "metadata": {},
   "outputs": [],
   "source": [
    "feature_vector = my_naive_lzgraph.eigenvector_centrality()"
   ]
  },
  {
   "cell_type": "code",
   "execution_count": 10,
   "id": "52955e1f",
   "metadata": {},
   "outputs": [
    {
     "data": {
      "text/plain": [
       "dict"
      ]
     },
     "execution_count": 10,
     "metadata": {},
     "output_type": "execute_result"
    }
   ],
   "source": [
    "type(feature_vector)"
   ]
  },
  {
   "cell_type": "markdown",
   "id": "398907f1",
   "metadata": {},
   "source": [
    "The eigenvector_centrality method will return the eigenvector centrality value for each node in your NaiveLZGraph, the output is a dictionary, to further use this feature vector you would want to extract the values of the output dictionary and convert it to a numpy array:"
   ]
  },
  {
   "cell_type": "code",
   "execution_count": 11,
   "id": "ba14fe39",
   "metadata": {},
   "outputs": [],
   "source": [
    "feature_vector = np.array(list(feature_vector.values()))"
   ]
  },
  {
   "cell_type": "code",
   "execution_count": 12,
   "id": "1cbbe0df",
   "metadata": {},
   "outputs": [
    {
     "data": {
      "text/plain": [
       "array([3.03155935e-01, 1.17814853e-01, 1.18110181e-01, ...,\n",
       "       6.99936298e-10, 6.99936298e-10, 6.99936298e-10])"
      ]
     },
     "execution_count": 12,
     "metadata": {},
     "output_type": "execute_result"
    }
   ],
   "source": [
    "feature_vector"
   ]
  },
  {
   "cell_type": "markdown",
   "id": "69b8e269",
   "metadata": {},
   "source": [
    "### 2. Deriving LZPgen\n",
    "\n",
    "Below is an example of how one can derive the LZPgen based on the NaiveLZGraph.\n",
    "Although we do not recommend using the NaiveLZGraph for LZPgen calculation as it does not satisfy the DAG constraint presented in our paper."
   ]
  },
  {
   "cell_type": "code",
   "execution_count": 14,
   "id": "2fd509d3",
   "metadata": {},
   "outputs": [],
   "source": [
    "lzpgens = []\n",
    "# iterate over each sequence\n",
    "for sequence in example_sequences['cdr3_rearrangement']:\n",
    "    # convert sequence to graph sub-patterns\n",
    "    walk = NaiveLZGraph.encode_sequence(sequence)\n",
    "    # calculate the lzpgen based on the fitted NaiveLZGraph\n",
    "    lzpgen = my_naive_lzgraph.walk_probability(walk,verbose=False)\n",
    "    lzpgens.append(lzpgen)"
   ]
  },
  {
   "cell_type": "code",
   "execution_count": 19,
   "id": "2f56f513",
   "metadata": {},
   "outputs": [
    {
     "data": {
      "text/plain": [
       "Text(0.5, 0, '-log10(NaiveLZPgen)')"
      ]
     },
     "execution_count": 19,
     "metadata": {},
     "output_type": "execute_result"
    },
    {
     "data": {
      "image/png": "[encoded data removed]",
      "text/plain": [
       "<Figure size 1080x504 with 1 Axes>"
      ]
     },
     "metadata": {
      "needs_background": "light"
     },
     "output_type": "display_data"
    }
   ],
   "source": [
    "sns.kdeplot(-np.log10(lzpgens))\n",
    "plt.xlabel('-log10(NaiveLZPgen)')"
   ]
  },
  {
   "cell_type": "markdown",
   "id": "0d0d834b",
   "metadata": {},
   "source": [
    "### 3. Generating Sequences\n",
    "\n",
    "Below is an example of how one can generate new sequences using the NaiveLZGraph.\n",
    "Although we do not recommend using the NaiveLZGraph sequence generation it does not satisfy the DAG constraint presented in our paper it still can be used to generate less spesific sequences to the source repertoire statistics."
   ]
  },
  {
   "cell_type": "code",
   "execution_count": 20,
   "id": "96d81ff8",
   "metadata": {},
   "outputs": [
    {
     "data": {
      "text/plain": [
       "(['T', 'G', 'TG', 'C'], 'TGTGC')"
      ]
     },
     "execution_count": 20,
     "metadata": {},
     "output_type": "execute_result"
    }
   ],
   "source": [
    "my_naive_lzgraph.unsupervised_random_walk()"
   ]
  },
  {
   "cell_type": "markdown",
   "id": "a3178d5a",
   "metadata": {},
   "source": [
    "The above call to the `unsupervised_random_walk` method will generate a sequence starting in a random initial state and will terminate at the first teminal state it reaches.\n",
    "The method returns the steps taken (the actual graph nodes) and the resulting sequence."
   ]
  },
  {
   "cell_type": "code",
   "execution_count": 23,
   "id": "214a3a3f",
   "metadata": {},
   "outputs": [
    {
     "data": {
      "text/plain": [
       "(['T',\n",
       "  'G',\n",
       "  'TG',\n",
       "  'C',\n",
       "  'CA',\n",
       "  'GC',\n",
       "  'A',\n",
       "  'GCT',\n",
       "  'TT',\n",
       "  'C',\n",
       "  'GC',\n",
       "  'A',\n",
       "  'GCT',\n",
       "  'TA',\n",
       "  'GTAC',\n",
       "  'TT',\n",
       "  'TC',\n",
       "  'GG',\n",
       "  'GCC',\n",
       "  'A',\n",
       "  'GT',\n",
       "  'A',\n",
       "  'GT',\n",
       "  'TAA',\n",
       "  'TT'],\n",
       " 'TGTGCCAGCAGCTTTCGCAGCTTAGTACTTTCGGGCCAGTAGTTAATT')"
      ]
     },
     "execution_count": 23,
     "metadata": {},
     "output_type": "execute_result"
    }
   ],
   "source": [
    "my_naive_lzgraph.random_walk(25)"
   ]
  },
  {
   "cell_type": "markdown",
   "id": "34403838",
   "metadata": {},
   "source": [
    "The above method `random_walk` will geneate a sequence of a given length (in the above example is 25) and will return the taken graph steps and the resulting sequence."
   ]
  },
  {
   "cell_type": "code",
   "execution_count": null,
   "id": "01215768",
   "metadata": {},
   "outputs": [],
   "source": []
  }
 ],
 "metadata": {
  "kernelspec": {
   "display_name": "Python 3 (ipykernel)",
   "language": "python",
   "name": "python3"
  },
  "language_info": {
   "codemirror_mode": {
    "name": "ipython",
    "version": 3
   },
   "file_extension": ".py",
   "mimetype": "text/x-python",
   "name": "python",
   "nbconvert_exporter": "python",
   "pygments_lexer": "ipython3",
   "version": "3.8.13"
  }
 },
 "nbformat": 4,
 "nbformat_minor": 5
}

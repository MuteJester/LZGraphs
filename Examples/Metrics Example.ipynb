{
 "cells": [
  {
   "cell_type": "code",
   "execution_count": 8,
   "id": "148c741d-f2b9-4e21-86f2-c62cb5eec901",
   "metadata": {},
   "outputs": [],
   "source": [
    "from LZGraphs import NDPLZGraph\n",
    "\n",
    "import pandas as pd\n",
    "import matplotlib.pyplot as plt\n",
    "import matplotlib as mpl\n",
    "import seaborn as sns\n",
    "from tqdm.notebook import tqdm\n",
    "mpl.rcParams['figure.figsize'] = (15,7)\n",
    "import numpy as np\n",
    "sns.set_context('poster')"
   ]
  },
  {
   "cell_type": "markdown",
   "id": "476d1059-11cb-4365-a035-f6a2791a78c9",
   "metadata": {},
   "source": [
    "# Creating an LZGraph for a Repertoire"
   ]
  },
  {
   "cell_type": "code",
   "execution_count": 2,
   "id": "08c75717-5e85-484a-ade6-73b06bb0919e",
   "metadata": {},
   "outputs": [
    {
     "data": {
      "text/html": [
       "<div>\n",
       "<style scoped>\n",
       "    .dataframe tbody tr th:only-of-type {\n",
       "        vertical-align: middle;\n",
       "    }\n",
       "\n",
       "    .dataframe tbody tr th {\n",
       "        vertical-align: top;\n",
       "    }\n",
       "\n",
       "    .dataframe thead th {\n",
       "        text-align: right;\n",
       "    }\n",
       "</style>\n",
       "<table border=\"1\" class=\"dataframe\">\n",
       "  <thead>\n",
       "    <tr style=\"text-align: right;\">\n",
       "      <th></th>\n",
       "      <th>cdr3_rearrangement</th>\n",
       "      <th>V</th>\n",
       "      <th>J</th>\n",
       "    </tr>\n",
       "  </thead>\n",
       "  <tbody>\n",
       "    <tr>\n",
       "      <th>24735</th>\n",
       "      <td>TGTGCCTGCGTAACACAGGGGGTTTGGTATGGCTACACCTTC</td>\n",
       "      <td>TRBV30-1*01</td>\n",
       "      <td>TRBJ1-2*01</td>\n",
       "    </tr>\n",
       "    <tr>\n",
       "      <th>8790</th>\n",
       "      <td>TGTGCCAGTAGCCCTAACAGATCTGGAAACACCATATATTTT</td>\n",
       "      <td>TRBV19-1*01</td>\n",
       "      <td>TRBJ1-3*01</td>\n",
       "    </tr>\n",
       "    <tr>\n",
       "      <th>2956</th>\n",
       "      <td>TGTGCCAGCAGTTTCTCCCCCCCCTACGAGCAGTACTTC</td>\n",
       "      <td>TRBV27-1*01</td>\n",
       "      <td>TRBJ2-7*01</td>\n",
       "    </tr>\n",
       "    <tr>\n",
       "      <th>20041</th>\n",
       "      <td>TGCGCCAGCAGCTTGGCCGTGAACTACAACACCGGGGAGCTGTTTTTT</td>\n",
       "      <td>TRBV5-1*01</td>\n",
       "      <td>TRBJ2-2*01</td>\n",
       "    </tr>\n",
       "    <tr>\n",
       "      <th>3144</th>\n",
       "      <td>TGTGCCAGCAGCTCGCAGGGTCTCTCCTACGAGCAGTACTTC</td>\n",
       "      <td>TRBV7-9*01</td>\n",
       "      <td>TRBJ2-7*01</td>\n",
       "    </tr>\n",
       "    <tr>\n",
       "      <th>...</th>\n",
       "      <td>...</td>\n",
       "      <td>...</td>\n",
       "      <td>...</td>\n",
       "    </tr>\n",
       "    <tr>\n",
       "      <th>16997</th>\n",
       "      <td>TGTGCCAGCAGTTTAGCGGGACAGGCGGGTTACACTGAAGCTTTCTTT</td>\n",
       "      <td>TRBV28-1*01</td>\n",
       "      <td>TRBJ1-1*01</td>\n",
       "    </tr>\n",
       "    <tr>\n",
       "      <th>16636</th>\n",
       "      <td>TGTGCCAGCAGCTTAGGGACAGGGGTTCAACAGCCCCAGCATTTT</td>\n",
       "      <td>TRBV7-3*01</td>\n",
       "      <td>TRBJ1-5*01</td>\n",
       "    </tr>\n",
       "    <tr>\n",
       "      <th>8839</th>\n",
       "      <td>TGTGCCAGCGCCCGGACGGGGGGGGGTAACTATGGCTACACCTTC</td>\n",
       "      <td>TRBV25-1*01</td>\n",
       "      <td>TRBJ1-2*01</td>\n",
       "    </tr>\n",
       "    <tr>\n",
       "      <th>12247</th>\n",
       "      <td>TGCGCCAGCAGCCAACGGACAGGGCGCGAGCAGTACTTC</td>\n",
       "      <td>TRBV4-3*01</td>\n",
       "      <td>TRBJ2-7*01</td>\n",
       "    </tr>\n",
       "    <tr>\n",
       "      <th>9786</th>\n",
       "      <td>TGTGCCAGCAGCGATATGTATCTCTCCTACAATGAGCAGTTCTTC</td>\n",
       "      <td>TRBV6-1*01</td>\n",
       "      <td>TRBJ2-1*01</td>\n",
       "    </tr>\n",
       "  </tbody>\n",
       "</table>\n",
       "<p>5000 rows × 3 columns</p>\n",
       "</div>"
      ],
      "text/plain": [
       "                                     cdr3_rearrangement            V  \\\n",
       "24735        TGTGCCTGCGTAACACAGGGGGTTTGGTATGGCTACACCTTC  TRBV30-1*01   \n",
       "8790         TGTGCCAGTAGCCCTAACAGATCTGGAAACACCATATATTTT  TRBV19-1*01   \n",
       "2956            TGTGCCAGCAGTTTCTCCCCCCCCTACGAGCAGTACTTC  TRBV27-1*01   \n",
       "20041  TGCGCCAGCAGCTTGGCCGTGAACTACAACACCGGGGAGCTGTTTTTT   TRBV5-1*01   \n",
       "3144         TGTGCCAGCAGCTCGCAGGGTCTCTCCTACGAGCAGTACTTC   TRBV7-9*01   \n",
       "...                                                 ...          ...   \n",
       "16997  TGTGCCAGCAGTTTAGCGGGACAGGCGGGTTACACTGAAGCTTTCTTT  TRBV28-1*01   \n",
       "16636     TGTGCCAGCAGCTTAGGGACAGGGGTTCAACAGCCCCAGCATTTT   TRBV7-3*01   \n",
       "8839      TGTGCCAGCGCCCGGACGGGGGGGGGTAACTATGGCTACACCTTC  TRBV25-1*01   \n",
       "12247           TGCGCCAGCAGCCAACGGACAGGGCGCGAGCAGTACTTC   TRBV4-3*01   \n",
       "9786      TGTGCCAGCAGCGATATGTATCTCTCCTACAATGAGCAGTTCTTC   TRBV6-1*01   \n",
       "\n",
       "                J  \n",
       "24735  TRBJ1-2*01  \n",
       "8790   TRBJ1-3*01  \n",
       "2956   TRBJ2-7*01  \n",
       "20041  TRBJ2-2*01  \n",
       "3144   TRBJ2-7*01  \n",
       "...           ...  \n",
       "16997  TRBJ1-1*01  \n",
       "16636  TRBJ1-5*01  \n",
       "8839   TRBJ1-2*01  \n",
       "12247  TRBJ2-7*01  \n",
       "9786   TRBJ2-1*01  \n",
       "\n",
       "[5000 rows x 3 columns]"
      ]
     },
     "execution_count": 2,
     "metadata": {},
     "output_type": "execute_result"
    }
   ],
   "source": [
    "example_sequences = pd.read_csv('ExampleData2.csv',\n",
    "                               index_col=0)\n",
    "example_sequences"
   ]
  },
  {
   "cell_type": "code",
   "execution_count": 3,
   "id": "bade1f2d-4c67-4d4e-8202-82f4fa2de4a1",
   "metadata": {},
   "outputs": [
    {
     "name": "stdout",
     "output_type": "stream",
     "text": [
      "Gene Information Loaded.. |  0.0  Seconds\n"
     ]
    },
    {
     "data": {
      "application/vnd.jupyter.widget-view+json": {
       "model_id": "",
       "version_major": 2,
       "version_minor": 0
      },
      "text/plain": [
       "0it [00:00, ?it/s]"
      ]
     },
     "metadata": {},
     "output_type": "display_data"
    },
    {
     "name": "stdout",
     "output_type": "stream",
     "text": [
      "Graph Constructed.. |  0.52  Seconds\n",
      "Graph Metadata Derived.. |  0.52  Seconds\n",
      "Individual Subpattern Empirical Probability Derived.. |  0.6  Seconds\n",
      "Graph Edge Weight Normalized.. |  0.62  Seconds\n",
      "Graph Edge Gene Weights Normalized.. |  0.72  Seconds\n",
      "Terminal State Map Derived.. |  0.78  Seconds\n",
      "Individual Subpattern Empirical Probability Derived.. |  0.95  Seconds\n",
      "Terminal State Map Derived.. |  0.95  Seconds\n",
      "LZGraph Created Successfully.. |  0.95  Seconds\n",
      "==============================\n",
      "\n",
      "\n"
     ]
    }
   ],
   "source": [
    "my_ndp_lzgraph = NDPLZGraph(example_sequences)"
   ]
  },
  {
   "cell_type": "markdown",
   "id": "16f31a30-4f9f-43a0-bcf6-c11d421528ba",
   "metadata": {},
   "source": [
    "# Deriving LZCentrality and K1000"
   ]
  },
  {
   "cell_type": "code",
   "execution_count": 4,
   "id": "6f4ca402-cc8f-4a0f-ac63-a86804d2b7f5",
   "metadata": {},
   "outputs": [],
   "source": [
    "from LZGraphs.Metrics import K1000_Diversity,LZCentrality"
   ]
  },
  {
   "cell_type": "markdown",
   "id": "4091c589-3144-4191-95b4-aba41b2dd863",
   "metadata": {},
   "source": [
    "## LZCentrality"
   ]
  },
  {
   "cell_type": "code",
   "execution_count": 5,
   "id": "53221bfc-0e9a-4095-a54f-6c70ec008b34",
   "metadata": {},
   "outputs": [
    {
     "data": {
      "text/plain": [
       "14.105263157894736"
      ]
     },
     "execution_count": 5,
     "metadata": {},
     "output_type": "execute_result"
    }
   ],
   "source": [
    "LZCentrality(my_ndp_lzgraph,'TGTGCCTGCGTAACACAGGGGGTTTGGTATGGCTACACCTTC')"
   ]
  },
  {
   "cell_type": "code",
   "execution_count": 10,
   "id": "7c8dd443-9287-4972-bcdf-affca9d2a30a",
   "metadata": {},
   "outputs": [
    {
     "data": {
      "text/plain": [
       "<AxesSubplot:ylabel='Count'>"
      ]
     },
     "execution_count": 10,
     "metadata": {},
     "output_type": "execute_result"
    },
    {
     "data": {
      "image/png": "[encoded data removed]",
      "text/plain": [
       "<Figure size 1080x504 with 1 Axes>"
      ]
     },
     "metadata": {
      "needs_background": "light"
     },
     "output_type": "display_data"
    }
   ],
   "source": [
    "lz_centralities = [LZCentrality(my_ndp_lzgraph,seq) for seq in example_sequences.cdr3_rearrangement]\n",
    "sns.histplot(lz_centralities)"
   ]
  },
  {
   "cell_type": "markdown",
   "id": "da9b54b8-a0d5-4051-8dda-6d83f650b609",
   "metadata": {},
   "source": [
    "# K1000 Diversity Index"
   ]
  },
  {
   "cell_type": "code",
   "execution_count": 12,
   "id": "8e62d219-4b18-410a-b38c-1b36f8af7a3b",
   "metadata": {},
   "outputs": [],
   "source": [
    "sequences = example_sequences.cdr3_rearrangement.to_list() # or any list of CDR3 sequence\n",
    "encoding_function = NDPLZGraph.encode_sequence\n",
    "number_of_draws = 30 # deault value is 25\n",
    "\n",
    "k1000_diversity = K1000_Diversity(sequences,encoding_function,draws=number_of_draws)"
   ]
  },
  {
   "cell_type": "code",
   "execution_count": 13,
   "id": "e642d3db-1fee-436f-856d-82ae34fa2a2a",
   "metadata": {},
   "outputs": [
    {
     "data": {
      "text/plain": [
       "2140.1666666666665"
      ]
     },
     "execution_count": 13,
     "metadata": {},
     "output_type": "execute_result"
    }
   ],
   "source": [
    "k1000_diversity"
   ]
  }
 ],
 "metadata": {
  "kernelspec": {
   "display_name": "Python 3 (ipykernel)",
   "language": "python",
   "name": "python3"
  },
  "language_info": {
   "codemirror_mode": {
    "name": "ipython",
    "version": 3
   },
   "file_extension": ".py",
   "mimetype": "text/x-python",
   "name": "python",
   "nbconvert_exporter": "python",
   "pygments_lexer": "ipython3",
   "version": "3.8.13"
  }
 },
 "nbformat": 4,
 "nbformat_minor": 5
}
